{
 "cells": [
  {
   "cell_type": "code",
   "execution_count": 555,
   "metadata": {},
   "outputs": [],
   "source": [
    "import numpy as np\n",
    "import matplotlib.pyplot as plt\n",
    "from scipy.integrate import solve_ivp\n",
    "import random\n",
    "\n",
    "import os\n",
    "import sys"
   ]
  },
  {
   "cell_type": "markdown",
   "metadata": {},
   "source": [
    "## Use this space to write the components of the small cluster simulation algorithm. First write it out in words, then write out the code component"
   ]
  },
  {
   "cell_type": "markdown",
   "metadata": {},
   "source": [
    "First we have to make up some (smaller scale) data to test things on. This can also serve as the template for making our actual star arrays"
   ]
  },
  {
   "cell_type": "code",
   "execution_count": 556,
   "metadata": {},
   "outputs": [],
   "source": [
    "random.seed(None)"
   ]
  },
  {
   "cell_type": "code",
   "execution_count": 557,
   "metadata": {},
   "outputs": [],
   "source": [
    "# intialize array of stars\n",
    "n = 10\n",
    "\n",
    "msun = 2e30\n",
    "G = 6.67430e-11\n",
    "AU = 1.496e11 \n",
    "posrange = 40.0 * AU\n",
    "velrange = 10.0\n",
    "eta = 2e-4\n",
    "\n",
    "stars = np.zeros((n, 5), dtype=object)\n",
    "\n",
    "for i in range(n):\n",
    "    #build pos and vel arrays\n",
    "    x = []\n",
    "    v = []\n",
    "    for j in range(3):\n",
    "        x.append(random.uniform(-posrange, posrange))\n",
    "        v.append(random.uniform(-velrange, velrange))\n",
    "    stars[i][0] = x #pos\n",
    "    stars[i][1] = v #vel\n",
    "    stars[i][2] = [0,0,0,0] #time step, 3 is time of last eval\n",
    "    stars[i][4] = [random.uniform(0.5*msun, 8*msun)] #mass"
   ]
  },
  {
   "cell_type": "code",
   "execution_count": 558,
   "metadata": {},
   "outputs": [],
   "source": [
    "# calculate a reasonable epsilon\n",
    "\n",
    "# get average of all stars masses\n",
    "avg = 0\n",
    "for i in range(n):\n",
    "    avg = avg + stars[i][4][0]\n",
    "avg = avg / n\n",
    "\n",
    "# calc a (although we will just choose it to be 1 AU)\n",
    "m = 2 * avg\n",
    "TE = 6.822e+40\n",
    "a = (-G * m**2)/(2 * TE)\n",
    "\n",
    "# set epsilon \n",
    "epsilon = AU - 5e10"
   ]
  },
  {
   "cell_type": "code",
   "execution_count": 559,
   "metadata": {},
   "outputs": [],
   "source": [
    "# calculate initial force on all stars\n",
    "\n",
    "def dot(vec1, vec2):\n",
    "    '''perform dot procuct'''\n",
    "    return (vec1[0]*vec2[0]) + (vec1[1]*vec2[1]) + (vec1[2]*vec2[2])\n",
    "\n",
    "def starposvec(stars,i,j):\n",
    "    '''returns position vector from star i to star j'''\n",
    "    return np.subtract(stars[i][0][:],stars[j][0][:])\n",
    "\n",
    "def starvelvec(stars,i,j):\n",
    "    '''returns velocity vector from star i to star j'''\n",
    "    return np.subtract(stars[i][1][:],stars[j][1][:])\n",
    "\n",
    "def stardist(i,j):\n",
    "    '''calculates magnitude of distance between i and j'''\n",
    "    dists = starposvec(stars,i,j)\n",
    "    return np.sqrt(dists[0]**2 + dists[1]**2 + dists[2]**2)\n",
    "\n",
    "def f_ij(stars,i,j):\n",
    "    '''returns the force vector between just i and j'''\n",
    "    pos = starposvec(stars,i,j)\n",
    "    dist = stardist(i,j)\n",
    "    return -stars[j][4][0]*pos/((dist**2 + epsilon**2)**(3/2))\n",
    "\n",
    "def fd_ij(stars,i,j):\n",
    "    '''returns force derivative vector between just i and j'''\n",
    "    velvec = starvelvec(stars,i,j)\n",
    "    posvec = starposvec(stars,i,j)\n",
    "    dist = stardist(i,j)\n",
    "    return -stars[j][4][0]*((velvec/(dist**2 + epsilon**2)**(3/2))-((3*posvec*dot(posvec,velvec))/((dist**2 + epsilon**2)**(5/2))))\n",
    "\n",
    "\n",
    "def init_force(stars):\n",
    "    '''calculate initial force on particles'''\n",
    "    force = np.zeros((n,3))\n",
    "    for i in range(n):\n",
    "        for j in range(n):\n",
    "            if i!=j:\n",
    "                vec = starposvec(stars,i,j)\n",
    "                dist = stardist(i,j)\n",
    "                force[:][i] = force[:][i] + (-G * stars[j][4][0] * vec)/(np.sqrt((dist**2 + epsilon**2)**3))\n",
    "    return force\n",
    "\n",
    "def init_force_mag(force):\n",
    "    '''calculate inital force magnitude on each particle'''\n",
    "    force_mag = np.zeros(n)\n",
    "    for i in range(n):\n",
    "        force_mag[i] = np.sqrt(force[i][0]**2 + force[i][1]**2 + force[i][2]**2)\n",
    "    return force_mag\n",
    "\n",
    "def init_force_fd(stars):\n",
    "    '''calculate initial force first derivative'''\n",
    "    force_fd = np.zeros((n,3))\n",
    "    for i in range(n):\n",
    "        for j in range(n):\n",
    "            if i!=j:\n",
    "                posvec = starposvec(stars,i,j)\n",
    "                velvec = starvelvec(stars,i,j)\n",
    "                dist = stardist(i,j)\n",
    "                force_fd[:][i] = force_fd[:][i] + (-stars[j][4][0])*((velvec/((dist**2 + epsilon**2)**(3/2)))-((3*posvec*dot(posvec,velvec))/((dist**2 + epsilon**2)**(5/2))))\n",
    "    return force_fd\n",
    "\n",
    "def init_force_sd(stars):\n",
    "    '''calculate initial force second derivative'''\n",
    "    force_sd = np.zeros((n,3))\n",
    "    for i in range(n):\n",
    "        for j in range(n):\n",
    "            if i!=j:\n",
    "                posvec = starposvec(stars,i,j)\n",
    "                velvec = starvelvec(stars,i,j)\n",
    "                dist = stardist(i,j)\n",
    "\n",
    "                t1 = (f_ij(stars,i,j)/((dist**2 + epsilon**2)**(3/2)))\n",
    "                t2 = ((6*velvec*dot(posvec,velvec))/(dist**5))\n",
    "                t3 = (((3*posvec)/((dist**2 + epsilon**2)**(5/2)))*(((5*(dot(posvec,velvec))**2)/(dist**2 + epsilon**2))-(dot(velvec,velvec))-(dot(posvec,f_ij(stars,i,j)))))\n",
    "\n",
    "                force_sd[:][i] = force_sd[:][i] + (-stars[j][4][0])*(t1-t2+t3)\n",
    "    return force_sd\n",
    "\n",
    "def init_force_td(stars):\n",
    "    '''calculate initial force third derivative'''\n",
    "    force_td = np.zeros((n,3))\n",
    "    for i in range(n):\n",
    "        for j in range(n):\n",
    "            if i!=j:\n",
    "                posvec = starposvec(stars,i,j)\n",
    "                velvec = starvelvec(stars,i,j)\n",
    "                dist = stardist(i,j)\n",
    "                rsd = f_ij(stars,i,j)\n",
    "                rtd = fd_ij(stars,i,j)\n",
    "\n",
    "                t1 = rtd/((dist**2 + epsilon**2)**(3/2))\n",
    "                t2 = (9*rsd*dot(posvec,velvec))/((dist**2 + epsilon**2)**(5/2))\n",
    "                t3 = (velvec/((dist**2 + epsilon**2)**(5/2)))*((9*dot(velvec,velvec))+(9*dot(posvec,rsd))-((45*(dot(posvec,velvec))**2)/(dist**2 + epsilon**2)))\n",
    "                t4 = (posvec/((dist**2 + epsilon**2)**(5/2)))*((3*dot(posvec,rtd))+(9*dot(velvec,rsd))-((45*dot(posvec,velvec)*dot(posvec,rsd))/(dist**2 + epsilon**2))-((45*dot(posvec,velvec)*dot(velvec,velvec))/(dist**2 + epsilon**2))+((105*dot(posvec,velvec)**3)/((dist**2 + epsilon**2)**2)))\n",
    "\n",
    "                force_td[:][i] = force_td[:][i] + (-stars[j][4][0])*(t1-t2-t3-t4)\n",
    "    return force_td"
   ]
  },
  {
   "cell_type": "code",
   "execution_count": 560,
   "metadata": {},
   "outputs": [],
   "source": [
    "# initial force and first, second, third derivs\n",
    "f0 = init_force(stars)\n",
    "f0_fd = init_force_fd(stars)\n",
    "f0_sd = init_force_sd(stars)\n",
    "f0_td = init_force_td(stars)"
   ]
  },
  {
   "cell_type": "code",
   "execution_count": 561,
   "metadata": {},
   "outputs": [],
   "source": [
    "def init_dt(stars):\n",
    "    '''initialize beginning dt as laid out in Aarseth eq 7'''\n",
    "    for i in range(n):\n",
    "        f0_mag = init_force_mag(f0)\n",
    "        f03_mag = init_force_mag(f0_td)\n",
    "        dt0 = (eta*((6*f0_mag[i])/(f03_mag[i])))**(1/3)\n",
    "        stars[i][2] = [dt0, dt0, dt0, dt0]"
   ]
  },
  {
   "cell_type": "code",
   "execution_count": 562,
   "metadata": {},
   "outputs": [],
   "source": [
    "init_dt(stars)"
   ]
  },
  {
   "cell_type": "markdown",
   "metadata": {},
   "source": [
    "1) Find the particle (star) to be given the next force evalutaion\n",
    "2) Advance time to new time step"
   ]
  },
  {
   "cell_type": "code",
   "execution_count": 563,
   "metadata": {},
   "outputs": [],
   "source": [
    "t = 0\n",
    "def find_min_dt(stars):\n",
    "    dt = stars[0][2][3]\n",
    "    ti = stars[0][3]\n",
    "    min = dt + ti\n",
    "    part = 0\n",
    "    for i in range(n):\n",
    "        dt = stars[i][2][3]\n",
    "        ti = stars[i][3]\n",
    "        if dt+ti < min:\n",
    "            part = i\n",
    "            min = dt+ti\n",
    "    return dt, part\n",
    "\n",
    "dt_alpha, alpha = find_min_dt(stars)\n",
    "t_old = t\n",
    "t = t_old + dt_alpha"
   ]
  },
  {
   "cell_type": "markdown",
   "metadata": {},
   "source": [
    "3) Change the position of all of the particles except the chosen particle to the new time t_new, using only the first two terms of the force polynomial. If you integrate this force formula twice with respect to time, you get the change in position\n",
    "\n",
    "Note: must keep track of last time of force eval for each particle!!! different for each particle!!\n",
    "\n",
    "Ok I'm realizing that to do this, you have to have an idea of the force on each particle already...let's write a calculating initial \n",
    "force function\n",
    "\n",
    "I'm realizing that to do this we also need an automated way of calculating B, C, D, E. See Aarseth (1971) for this"
   ]
  },
  {
   "cell_type": "code",
   "execution_count": 564,
   "metadata": {},
   "outputs": [],
   "source": [
    "def force_fd(stars,alpha):\n",
    "    '''calculate force first derivative for a single particle'''\n",
    "    force_fd = np.zeros(3)\n",
    "    for j in range(n):\n",
    "        if j!=alpha:\n",
    "            posvec = starposvec(stars,alpha,j)\n",
    "            velvec = starvelvec(stars,alpha,j)\n",
    "            dist = stardist(alpha,j)\n",
    "            force_fd = force_fd + (-stars[j][4][0])*((velvec/((dist**2 + epsilon**2)**(3/2)))-((3*posvec*dot(posvec,velvec))/((dist**2 + epsilon**2)**(5/2))))\n",
    "    return force_fd\n",
    "\n",
    "def force_sd(stars, alpha):\n",
    "    '''calculate force second derivative for a single particle'''\n",
    "    force_sd = np.zeros(3)\n",
    "    for j in range(n):\n",
    "        if j!=alpha:\n",
    "            posvec = starposvec(stars,alpha,j)\n",
    "            velvec = starvelvec(stars,alpha,j)\n",
    "            dist = stardist(alpha,j)\n",
    "\n",
    "            t1 = (f_ij(stars,alpha,j)/((dist**2 + epsilon**2)**(3/2)))\n",
    "            t2 = ((6*velvec*dot(posvec,velvec))/((dist**2 + epsilon**2)**(5/2)))\n",
    "            t3 = (((3*posvec)/((dist**2 + epsilon**2)**(5/2)))*(((5*(dot(posvec,velvec))**2)/(dist**2 + epsilon**2))-(dot(velvec,velvec))-(dot(posvec,f_ij(stars,alpha,j)))))\n",
    "\n",
    "            force_sd = force_sd + (-stars[j][4][0])*(t1-t2+t3)\n",
    "    return force_sd\n",
    "\n",
    "def force_td(stars, alpha):\n",
    "    '''calculate force third derivative for a single particle'''\n",
    "    force_td = np.zeros(3)\n",
    "    for j in range(n):\n",
    "        if j!=alpha:\n",
    "            posvec = starposvec(stars,alpha,j)\n",
    "            velvec = starvelvec(stars,alpha,j)\n",
    "            dist = stardist(alpha,j)\n",
    "            rsd = f_ij(stars,alpha,j)\n",
    "            rtd = fd_ij(stars,alpha,j)\n",
    "\n",
    "            t1 = rtd/((dist**2 + epsilon**2)**(3/2))\n",
    "            t2 = (9*rsd*dot(posvec,velvec))/((dist**2 + epsilon**2)**(5/2))\n",
    "            t3 = (velvec/((dist**2 + epsilon**2)**(5/2)))*((9*dot(velvec,velvec))+(9*dot(posvec,rsd))-((45*(dot(posvec,velvec))**2)/(dist**2 + epsilon**2)))\n",
    "            t4 = (posvec/((dist**2 + epsilon**2)**(5/2)))*((3*dot(posvec,rtd))+(9*dot(velvec,rsd))-((45*dot(posvec,velvec)*dot(posvec,rsd))/(dist**2 + epsilon**2))-((45*dot(posvec,velvec)*dot(velvec,velvec))/(dist**2 + epsilon**2))+((105*dot(posvec,velvec)**3)/((dist**2 + epsilon**2)**2)))\n",
    "\n",
    "            force_td = force_td + (-stars[j][4][0])*(t1-t2-t3+t4)\n",
    "    return force_td"
   ]
  },
  {
   "cell_type": "code",
   "execution_count": 565,
   "metadata": {},
   "outputs": [],
   "source": [
    "def fhat1_calc(stars,i):\n",
    "    '''calculate fhat1 for particle i'''\n",
    "    f0_fd = force_fd(stars,i)\n",
    "    f0_sd = force_sd(stars,i)\n",
    "    f0_td = force_td(stars,i)\n",
    "    dt3 = stars[i][2][2]\n",
    "    return f0_fd - (0.5*f0_sd*dt3) + ((1/6)*f0_td*(dt3**2))\n",
    "\n",
    "def fhat2_calc(stars,i):\n",
    "    '''calculate fhat2 for particle i'''\n",
    "    f0_sd = force_sd(stars,i)\n",
    "    f0_td = force_td(stars,i)\n",
    "    dt2 = stars[i][2][1]\n",
    "    dt3 = stars[i][2][2]\n",
    "    return (0.5*f0_sd*((dt2+dt3)/(dt3))) - ((1/6)*f0_td*(dt2+(2*dt3))*(dt2+dt3)/(dt3))\n",
    "\n",
    "def fhat3_calc(stars,i):\n",
    "    '''calculate fhat3 for particle i'''\n",
    "    fhat2 = fhat2_calc(stars,i)\n",
    "    f0_td = force_td(stars,i)\n",
    "    dt1 = stars[i][2][0]\n",
    "    dt2 = stars[i][2][1]\n",
    "    dt3 = stars[i][2][2]\n",
    "    return (fhat2*((dt2**2)-(dt1*dt3))/((dt2+dt3)*dt2*dt3)) + ((1/6)*f0_td*(dt1+dt2+dt3)*(dt1+dt2)/(dt2*dt3))\n",
    "\n",
    "def B_calc(stars, i):\n",
    "    '''calculate the prefactor of the linear term in the polynomial, eq4 in Aarseth'''\n",
    "    return fhat1_calc(stars, i)\n",
    "\n",
    "def C_calc(stars, i):\n",
    "    '''calculate the prefactor of the quadratic term in the polynomial, eq4 in Aarseth'''\n",
    "    dt3 = stars[i][2][2]\n",
    "    dt2 = stars[i][2][1]\n",
    "    return dt3*(fhat2_calc(stars, i))/(dt2+dt3)\n",
    "\n",
    "def D_calc(stars, i):\n",
    "    '''calculate the prefactor of the cubic term in the polynomial, eq4 in Aarseth'''\n",
    "    dt1 = stars[i][2][0]\n",
    "    dt2 = stars[i][2][1]\n",
    "    dt3 = stars[i][2][2]\n",
    "    fhat2 = fhat2_calc(stars, i)\n",
    "    fhat3 = fhat3_calc(stars, i)\n",
    "    return (dt2*dt3*fhat3/((dt1+dt2+dt3)*(dt1+dt2))) - (((dt2**2)-(dt1*dt3))*fhat2/((dt1+dt2+dt3)*(dt1+dt2)*(dt2+dt3)))"
   ]
  },
  {
   "cell_type": "code",
   "execution_count": 566,
   "metadata": {},
   "outputs": [],
   "source": [
    "def dr(stars, i, tr):\n",
    "    '''calculate change in positon of particle i != alpha'''\n",
    "    vel = stars[i][1]\n",
    "    f0 = init_force(stars)[i]\n",
    "    B = B_calc(stars, i)\n",
    "    return ([x*tr for x in vel]) + (0.5*f0*(tr**2)) + ((1/6)*B*(tr**3))\n",
    "\n",
    "def update_positions(stars, alpha, t):\n",
    "    for i in range(n):\n",
    "        ti = stars[i][3]\n",
    "        if i != alpha:\n",
    "            tr = t - ti\n",
    "            stars[i][0] = stars[i][0] + dr(stars, i, tr)"
   ]
  },
  {
   "cell_type": "code",
   "execution_count": 567,
   "metadata": {},
   "outputs": [],
   "source": [
    "update_positions(stars, alpha, t)"
   ]
  },
  {
   "cell_type": "markdown",
   "metadata": {},
   "source": [
    "4) Predict the new position of the particle alpha by two time integrations of the cubic expression for the force on it"
   ]
  },
  {
   "cell_type": "code",
   "execution_count": 568,
   "metadata": {},
   "outputs": [],
   "source": [
    "def dr0(stars, alpha, tr):\n",
    "    '''calculate change in position of alpha based on cubic expression for force'''\n",
    "    vel = stars[alpha][1]\n",
    "    F0 = f0[alpha]\n",
    "    B = B_calc(stars, alpha)\n",
    "    C = C_calc(stars, alpha)\n",
    "    D = D_calc(stars, alpha)\n",
    "    return ([x*tr for x in vel]) + (0.5*F0*(tr**2)) + ((1/6)*B*(tr**3)) + ((1/12)*C*(tr**4)) + ((1/20)*D*(tr**5))\n",
    "\n",
    "def update_alpha_pos(stars, alpha, t):\n",
    "    '''update the position of the particle alpha based on the cubic expression for force'''\n",
    "    ti = stars[alpha][3]\n",
    "    tr = t - ti\n",
    "    stars[alpha][0] = stars[alpha][0] + dr0(stars, alpha, tr)"
   ]
  },
  {
   "cell_type": "code",
   "execution_count": 569,
   "metadata": {},
   "outputs": [],
   "source": [
    "update_alpha_pos(stars, alpha, t)"
   ]
  },
  {
   "cell_type": "markdown",
   "metadata": {},
   "source": [
    "5) Evaluate the force per unit mass on alpha by summing contributions from all other particles, using their new positions\n",
    "6) Calculate E and correct the position of alpha by adding the movement due to E\n",
    "\n",
    "In order to calculate E, we need a way to calculate f_alpha_fd, f_alpha_sd, f_alpha_td, and fhat2 for just one particle--write those functions here"
   ]
  },
  {
   "cell_type": "code",
   "execution_count": 570,
   "metadata": {},
   "outputs": [],
   "source": [
    "def f_alpha(stars, alpha):\n",
    "    '''calculate the force on just alpha using the updated positions of all of the other particles'''\n",
    "    force = np.zeros(3)\n",
    "    for j in range(n):\n",
    "        if j!=alpha:\n",
    "            vec = starposvec(stars,alpha,j)\n",
    "            dist = stardist(alpha,j)\n",
    "            force = force + (-G * stars[j][4][0] * vec)/(np.sqrt((dist**2 + epsilon**2)**3))\n",
    "    return force\n",
    "\n",
    "def f4hat2_calc(stars,alpha):\n",
    "    '''calculate fhat2 for particle alpha, with the updated force'''\n",
    "    f0_sd = force_sd(stars, alpha)\n",
    "    f0_td = force_td(stars, alpha)\n",
    "    dt2 = stars[alpha][2][1]\n",
    "    dt3 = stars[alpha][2][2]\n",
    "    return (0.5*f0_sd*((dt2+dt3)/(dt3))) - ((1/6)*f0_td*(dt2+(2*dt3))*(dt2+dt3)/(dt3))\n",
    "\n",
    "def E_calc(stars, i):\n",
    "    '''calculate the prefactor of the quartic term in the polynomial, eq4 in Aarseth'''\n",
    "    dt1 = stars[i][2][0]\n",
    "    dt2 = stars[i][2][1]\n",
    "    dt3 = stars[i][2][2]\n",
    "    dt4 = stars[i][2][3]\n",
    "    f4hat2 = f4hat2_calc(stars, i)\n",
    "    fhat2 = fhat2_calc(stars, i)\n",
    "    D = D_calc(stars, i)\n",
    "    return (((dt4*f4hat2/(dt3+dt4))-(dt3*fhat2/(dt2+dt3)))/((dt1+dt2+dt3+dt4)*(dt2+dt3+dt4))) - (D/(dt1+dt2+dt3+dt4))\n",
    "\n",
    "def update_alpha_pos_E(stars, alpha, t):\n",
    "    '''update the position of the particle alpha by adding E term'''  \n",
    "    E = E_calc(stars, alpha)\n",
    "    ti = stars[alpha][3]\n",
    "    tr = t - ti\n",
    "    add = (1/30)*E*(tr**6)\n",
    "    stars[alpha][0] = stars[alpha][0] + add"
   ]
  },
  {
   "cell_type": "code",
   "execution_count": 571,
   "metadata": {},
   "outputs": [],
   "source": [
    "Fa = f_alpha(stars, alpha)\n",
    "update_alpha_pos_E(stars, alpha, t)"
   ]
  },
  {
   "cell_type": "markdown",
   "metadata": {},
   "source": [
    "7) Calculate the new velocity on particle alpha by one time integration of the quartic expression for the force. "
   ]
  },
  {
   "cell_type": "code",
   "execution_count": 572,
   "metadata": {},
   "outputs": [],
   "source": [
    "def dv0(stars, alpha, tr):\n",
    "    '''calculate change in velocity of alpha based on quartic expression for force'''\n",
    "    F0 = f_alpha(stars, alpha)\n",
    "    B = B_calc(stars, alpha)\n",
    "    C = C_calc(stars, alpha)\n",
    "    D = D_calc(stars, alpha)\n",
    "    E = E_calc(stars, alpha)\n",
    "    return F0*tr + (0.5*B*(tr**2)) + ((1/3)*C*(tr**3)) + ((1/4)*D*(tr**4)) + ((1/5)*D*(tr**5))\n",
    "\n",
    "def update_alpha_vel(stars, alpha, t):\n",
    "    '''update the velocity of the particle alpha based on the quartic expression for force'''\n",
    "    ti = stars[alpha][3]\n",
    "    tr = t - ti\n",
    "    stars[alpha][1] = stars[alpha][1] + dv0(stars, alpha, tr)"
   ]
  },
  {
   "cell_type": "code",
   "execution_count": 573,
   "metadata": {},
   "outputs": [],
   "source": [
    "update_alpha_vel(stars, alpha, t)"
   ]
  },
  {
   "cell_type": "code",
   "execution_count": 574,
   "metadata": {},
   "outputs": [
    {
     "data": {
      "text/plain": [
       "[10.780936674991056,\n",
       " 10.780936674991056,\n",
       " 10.780936674991056,\n",
       " 10.780936674991056]"
      ]
     },
     "execution_count": 574,
     "metadata": {},
     "output_type": "execute_result"
    }
   ],
   "source": [
    "stars[alpha][2]"
   ]
  },
  {
   "cell_type": "markdown",
   "metadata": {},
   "source": [
    "8) Calculate the time to the next force evaluation for particle alpha"
   ]
  },
  {
   "cell_type": "code",
   "execution_count": 575,
   "metadata": {},
   "outputs": [],
   "source": [
    "def mag(force):\n",
    "    '''calculate the magnitude of some 3 element vector'''\n",
    "    return np.sqrt(force[0]**2 + force[1]**2 + force[2]**2)\n",
    "\n",
    "def calc_new_timestep(stars, alpha):\n",
    "    '''calculate the new timestep size for alpha, and reassign each of the old timesteps'''\n",
    "    F0 = mag(f_alpha(stars, alpha))\n",
    "    B = mag(B_calc(stars, alpha))\n",
    "    D = mag(D_calc(stars, alpha))\n",
    "    E = mag(E_calc(stars, alpha))\n",
    "    dtnew = (eta*(F0 + B*dt_alpha)/(D + E*dt_alpha))**(1/3)\n",
    "    \n",
    "    stars[alpha][2][0] = stars[alpha][2][1]\n",
    "    stars[alpha][2][1] = stars[alpha][2][2]\n",
    "    stars[alpha][2][2] = stars[alpha][2][3]\n",
    "    stars[alpha][2][3] = dtnew\n",
    "    stars[alpha][3] = t\n"
   ]
  },
  {
   "cell_type": "code",
   "execution_count": 576,
   "metadata": {},
   "outputs": [],
   "source": [
    "calc_new_timestep(stars, alpha)"
   ]
  },
  {
   "cell_type": "code",
   "execution_count": 577,
   "metadata": {},
   "outputs": [
    {
     "data": {
      "text/plain": [
       "array([array([2.03594526e+12, 1.92613732e+12, 4.90274430e+12]),\n",
       "       array([149.30528662, -47.26185184, -11.82554806]),\n",
       "       list([10.780936674991056, 10.780936674991056, 10.780936674991056, 339.7771563262896]),\n",
       "       14.6438702101977, list([5.563285575569554e+30])], dtype=object)"
      ]
     },
     "execution_count": 577,
     "metadata": {},
     "output_type": "execute_result"
    }
   ],
   "source": [
    "stars[alpha]"
   ]
  }
 ],
 "metadata": {
  "kernelspec": {
   "display_name": "vri",
   "language": "python",
   "name": "python3"
  },
  "language_info": {
   "codemirror_mode": {
    "name": "ipython",
    "version": 3
   },
   "file_extension": ".py",
   "mimetype": "text/x-python",
   "name": "python",
   "nbconvert_exporter": "python",
   "pygments_lexer": "ipython3",
   "version": "3.11.3"
  }
 },
 "nbformat": 4,
 "nbformat_minor": 2
}
